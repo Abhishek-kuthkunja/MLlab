{
 "cells": [
  {
   "cell_type": "code",
   "execution_count": 1,
   "metadata": {
    "id": "qQxpiqa1cOOm"
   },
   "outputs": [],
   "source": [
    "#imports\n",
    "#KMeans\n",
    "import pandas as pd\n",
    "import numpy as np\n",
    "from sklearn.model_selection import train_test_split\n",
    "from sklearn.cluster import KMeans\n",
    "from sklearn.preprocessing import StandardScaler\n",
    "from sklearn.metrics import confusion_matrix\n",
    "import matplotlib.pyplot as plt"
   ]
  },
  {
   "cell_type": "code",
   "execution_count": 2,
   "metadata": {
    "colab": {
     "base_uri": "https://localhost:8080/",
     "height": 424
    },
    "id": "tcvDkqK7c2oK",
    "outputId": "6070f310-fd7a-474b-f5b6-ccc05ea5bea5"
   },
   "outputs": [
    {
     "data": {
      "text/html": [
       "<div>\n",
       "<style scoped>\n",
       "    .dataframe tbody tr th:only-of-type {\n",
       "        vertical-align: middle;\n",
       "    }\n",
       "\n",
       "    .dataframe tbody tr th {\n",
       "        vertical-align: top;\n",
       "    }\n",
       "\n",
       "    .dataframe thead th {\n",
       "        text-align: right;\n",
       "    }\n",
       "</style>\n",
       "<table border=\"1\" class=\"dataframe\">\n",
       "  <thead>\n",
       "    <tr style=\"text-align: right;\">\n",
       "      <th></th>\n",
       "      <th>x</th>\n",
       "      <th>y</th>\n",
       "      <th>color</th>\n",
       "    </tr>\n",
       "  </thead>\n",
       "  <tbody>\n",
       "    <tr>\n",
       "      <th>0</th>\n",
       "      <td>144.475109</td>\n",
       "      <td>101.450265</td>\n",
       "      <td>0</td>\n",
       "    </tr>\n",
       "    <tr>\n",
       "      <th>1</th>\n",
       "      <td>370.683312</td>\n",
       "      <td>298.003415</td>\n",
       "      <td>2</td>\n",
       "    </tr>\n",
       "    <tr>\n",
       "      <th>2</th>\n",
       "      <td>253.714046</td>\n",
       "      <td>234.079402</td>\n",
       "      <td>1</td>\n",
       "    </tr>\n",
       "    <tr>\n",
       "      <th>3</th>\n",
       "      <td>148.699165</td>\n",
       "      <td>78.654006</td>\n",
       "      <td>0</td>\n",
       "    </tr>\n",
       "    <tr>\n",
       "      <th>4</th>\n",
       "      <td>192.157973</td>\n",
       "      <td>252.837304</td>\n",
       "      <td>1</td>\n",
       "    </tr>\n",
       "    <tr>\n",
       "      <th>...</th>\n",
       "      <td>...</td>\n",
       "      <td>...</td>\n",
       "      <td>...</td>\n",
       "    </tr>\n",
       "    <tr>\n",
       "      <th>12524</th>\n",
       "      <td>141.967251</td>\n",
       "      <td>238.963257</td>\n",
       "      <td>1</td>\n",
       "    </tr>\n",
       "    <tr>\n",
       "      <th>12525</th>\n",
       "      <td>161.932857</td>\n",
       "      <td>67.972458</td>\n",
       "      <td>0</td>\n",
       "    </tr>\n",
       "    <tr>\n",
       "      <th>12526</th>\n",
       "      <td>122.451461</td>\n",
       "      <td>94.133502</td>\n",
       "      <td>0</td>\n",
       "    </tr>\n",
       "    <tr>\n",
       "      <th>12527</th>\n",
       "      <td>182.881854</td>\n",
       "      <td>114.104916</td>\n",
       "      <td>0</td>\n",
       "    </tr>\n",
       "    <tr>\n",
       "      <th>12528</th>\n",
       "      <td>123.857932</td>\n",
       "      <td>92.770134</td>\n",
       "      <td>0</td>\n",
       "    </tr>\n",
       "  </tbody>\n",
       "</table>\n",
       "<p>12529 rows × 3 columns</p>\n",
       "</div>"
      ],
      "text/plain": [
       "                x           y  color\n",
       "0      144.475109  101.450265      0\n",
       "1      370.683312  298.003415      2\n",
       "2      253.714046  234.079402      1\n",
       "3      148.699165   78.654006      0\n",
       "4      192.157973  252.837304      1\n",
       "...           ...         ...    ...\n",
       "12524  141.967251  238.963257      1\n",
       "12525  161.932857   67.972458      0\n",
       "12526  122.451461   94.133502      0\n",
       "12527  182.881854  114.104916      0\n",
       "12528  123.857932   92.770134      0\n",
       "\n",
       "[12529 rows x 3 columns]"
      ]
     },
     "execution_count": 2,
     "metadata": {},
     "output_type": "execute_result"
    }
   ],
   "source": [
    "df = pd.read_csv('ColourXY.csv')\n",
    "df"
   ]
  },
  {
   "cell_type": "code",
   "execution_count": 3,
   "metadata": {
    "id": "a8IQ9ZxRe9w8"
   },
   "outputs": [],
   "source": [
    "df = df.drop(['color'],axis=1) # bcoz we are supposed to predict the cluster it belong and we dont know how many clusters are present initially\n",
    "df.dropna(inplace=True)"
   ]
  },
  {
   "cell_type": "code",
   "execution_count": 4,
   "metadata": {
    "colab": {
     "base_uri": "https://localhost:8080/",
     "height": 424
    },
    "id": "werqrrS8epho",
    "outputId": "e93b954f-b72f-456b-b4eb-2a4f8331b5ec"
   },
   "outputs": [
    {
     "data": {
      "text/html": [
       "<div>\n",
       "<style scoped>\n",
       "    .dataframe tbody tr th:only-of-type {\n",
       "        vertical-align: middle;\n",
       "    }\n",
       "\n",
       "    .dataframe tbody tr th {\n",
       "        vertical-align: top;\n",
       "    }\n",
       "\n",
       "    .dataframe thead th {\n",
       "        text-align: right;\n",
       "    }\n",
       "</style>\n",
       "<table border=\"1\" class=\"dataframe\">\n",
       "  <thead>\n",
       "    <tr style=\"text-align: right;\">\n",
       "      <th></th>\n",
       "      <th>x</th>\n",
       "      <th>y</th>\n",
       "    </tr>\n",
       "  </thead>\n",
       "  <tbody>\n",
       "    <tr>\n",
       "      <th>0</th>\n",
       "      <td>-1.147198</td>\n",
       "      <td>-1.245985</td>\n",
       "    </tr>\n",
       "    <tr>\n",
       "      <th>1</th>\n",
       "      <td>1.249969</td>\n",
       "      <td>1.214316</td>\n",
       "    </tr>\n",
       "    <tr>\n",
       "      <th>2</th>\n",
       "      <td>0.010426</td>\n",
       "      <td>0.414164</td>\n",
       "    </tr>\n",
       "    <tr>\n",
       "      <th>3</th>\n",
       "      <td>-1.102435</td>\n",
       "      <td>-1.531331</td>\n",
       "    </tr>\n",
       "    <tr>\n",
       "      <th>4</th>\n",
       "      <td>-0.641894</td>\n",
       "      <td>0.648962</td>\n",
       "    </tr>\n",
       "    <tr>\n",
       "      <th>...</th>\n",
       "      <td>...</td>\n",
       "      <td>...</td>\n",
       "    </tr>\n",
       "    <tr>\n",
       "      <th>12524</th>\n",
       "      <td>-1.173774</td>\n",
       "      <td>0.475297</td>\n",
       "    </tr>\n",
       "    <tr>\n",
       "      <th>12525</th>\n",
       "      <td>-0.962195</td>\n",
       "      <td>-1.665035</td>\n",
       "    </tr>\n",
       "    <tr>\n",
       "      <th>12526</th>\n",
       "      <td>-1.380586</td>\n",
       "      <td>-1.337571</td>\n",
       "    </tr>\n",
       "    <tr>\n",
       "      <th>12527</th>\n",
       "      <td>-0.740195</td>\n",
       "      <td>-1.087584</td>\n",
       "    </tr>\n",
       "    <tr>\n",
       "      <th>12528</th>\n",
       "      <td>-1.365682</td>\n",
       "      <td>-1.354637</td>\n",
       "    </tr>\n",
       "  </tbody>\n",
       "</table>\n",
       "<p>12529 rows × 2 columns</p>\n",
       "</div>"
      ],
      "text/plain": [
       "              x         y\n",
       "0     -1.147198 -1.245985\n",
       "1      1.249969  1.214316\n",
       "2      0.010426  0.414164\n",
       "3     -1.102435 -1.531331\n",
       "4     -0.641894  0.648962\n",
       "...         ...       ...\n",
       "12524 -1.173774  0.475297\n",
       "12525 -0.962195 -1.665035\n",
       "12526 -1.380586 -1.337571\n",
       "12527 -0.740195 -1.087584\n",
       "12528 -1.365682 -1.354637\n",
       "\n",
       "[12529 rows x 2 columns]"
      ]
     },
     "execution_count": 4,
     "metadata": {},
     "output_type": "execute_result"
    }
   ],
   "source": [
    "#scaling the data\n",
    "scaler = StandardScaler()\n",
    "df[ ['x','y'] ] = scaler.fit_transform(df[['x','y']])\n",
    "df\n",
    "#scaling req\n",
    "#label encoder not req\n"
   ]
  },
  {
   "cell_type": "code",
   "execution_count": 5,
   "metadata": {
    "id": "He9hFKbJfQ21"
   },
   "outputs": [],
   "source": [
    "X = df['x'].to_numpy()\n",
    "Y = df['y'].to_numpy() # conver to numpy\n",
    "train_x,test_x,train_y,test_y = train_test_split(X,Y,test_size=0.3,shuffle=True,random_state = 2)"
   ]
  },
  {
   "cell_type": "code",
   "execution_count": 6,
   "metadata": {
    "colab": {
     "base_uri": "https://localhost:8080/"
    },
    "id": "43vatgrXj7UC",
    "outputId": "8be12062-4aaf-4a95-fbdf-a806ac9e72b5"
   },
   "outputs": [
    {
     "data": {
      "text/plain": [
       "[[-0.9741350642134801, -1.0901004656995408],\n",
       " [0.16757931556903977, -0.022203206498422327],\n",
       " [1.7464001000086613, 1.3226051391737412],\n",
       " [-0.6216892324793227, -0.14477831652045425],\n",
       " [-0.894202055972227, -0.9043209634813322]]"
      ]
     },
     "execution_count": 6,
     "metadata": {},
     "output_type": "execute_result"
    }
   ],
   "source": [
    "train_data = []\n",
    "for i in range(len(train_x)):\n",
    "  train_data.append([train_x[i],train_y[i]])\n",
    "train_data[:5]"
   ]
  },
  {
   "cell_type": "code",
   "execution_count": 7,
   "metadata": {
    "colab": {
     "base_uri": "https://localhost:8080/",
     "height": 279
    },
    "id": "kxDU_g-mekRi",
    "outputId": "adf2d39f-699d-444c-a10d-4e69a349b0c3"
   },
   "outputs": [
    {
     "data": {
      "image/png": "[encoded data removed]",
      "text/plain": [
       "<Figure size 432x288 with 1 Axes>"
      ]
     },
     "metadata": {
      "needs_background": "light"
     },
     "output_type": "display_data"
    }
   ],
   "source": [
    "plt.scatter(train_x,train_y)\n",
    "plt.xlabel(\"x\")\n",
    "plt.ylabel('y')\n",
    "plt.show()"
   ]
  },
  {
   "cell_type": "code",
   "execution_count": 8,
   "metadata": {
    "id": "RyXM2hMbfU1U"
   },
   "outputs": [],
   "source": [
    "# elbow method using WCSS - within cluster sum\n",
    "# so we find distance of all points in that cluster from that cluster sum and add them all\n",
    "wcss = []\n",
    "\n",
    "distances = []\n",
    "for k in range(1,11):\n",
    "  model = KMeans(n_clusters = k)\n",
    "  model.fit(train_data)\n",
    "  centers = model.cluster_centers_\n",
    "  total_sum = 0\n",
    "  wcss.append(model.inertia_)\n",
    "  labels = model.labels_\n",
    "  \n",
    "  '''\n",
    "  # now we find distance of a point from all cluster centers and take min coz it belongs to that center\n",
    "  # for i in range(len(train_x)):\n",
    "  #   x_cord = train_x[i]\n",
    "  #   y_cord = train_y[i]\n",
    "  #   dist = []\n",
    "  #   for c in centers:\n",
    "  #     dist.append(abs(x_cord-c[0])+abs(y_cord-c[1])) # euclidean\n",
    "  #   total_sum+=min(dist)\n",
    "\n",
    "  # distances.append(total_sum)\n",
    "  '''"
   ]
  },
  {
   "cell_type": "code",
   "execution_count": 9,
   "metadata": {
    "colab": {
     "base_uri": "https://localhost:8080/"
    },
    "id": "itb4ek0zlDoK",
    "outputId": "72f196c0-2bd0-402f-ba45-5e25769cdf95"
   },
   "outputs": [
    {
     "data": {
      "text/plain": [
       "[17506.405029828424,\n",
       " 7965.563197559537,\n",
       " 4952.466039533375,\n",
       " 3460.6703920077034,\n",
       " 2509.5463079686524,\n",
       " 1926.7498211385205,\n",
       " 1652.3258261700432,\n",
       " 1423.1022161634796,\n",
       " 1275.4753975932954,\n",
       " 1157.444893336823]"
      ]
     },
     "execution_count": 9,
     "metadata": {},
     "output_type": "execute_result"
    }
   ],
   "source": [
    "wcss"
   ]
  },
  {
   "cell_type": "code",
   "execution_count": 10,
   "metadata": {
    "colab": {
     "base_uri": "https://localhost:8080/",
     "height": 279
    },
    "id": "Z5V0ab_LhuV4",
    "outputId": "6066e2b0-5941-457f-80d6-9f2b1034ef23"
   },
   "outputs": [
    {
     "data": {
      "image/png": "[encoded data removed]",
      "text/plain": [
       "<Figure size 432x288 with 1 Axes>"
      ]
     },
     "metadata": {
      "needs_background": "light"
     },
     "output_type": "display_data"
    }
   ],
   "source": [
    "plt.plot([i for i in range(1,11)],wcss,'bx-')\n",
    "\n",
    "plt.xlabel(\"K\")\n",
    "plt.ylabel(\"WCSS\")\n",
    "plt.show()"
   ]
  },
  {
   "cell_type": "code",
   "execution_count": 11,
   "metadata": {
    "colab": {
     "base_uri": "https://localhost:8080/"
    },
    "id": "uMui8YNlmz_g",
    "outputId": "f346c4f9-2c6b-4c7d-e775-2e6ffb3ace70"
   },
   "outputs": [
    {
     "name": "stderr",
     "output_type": "stream",
     "text": [
      "C:\\Users\\abhis\\anaconda3\\lib\\site-packages\\sklearn\\base.py:450: UserWarning: X does not have valid feature names, but StandardScaler was fitted with feature names\n",
      "  warnings.warn(\n"
     ]
    }
   ],
   "source": [
    "random_point = np.array([150,80])\n",
    "scaled_ = scaler.transform(random_point.reshape(1,-1))\n"
   ]
  },
  {
   "cell_type": "code",
   "execution_count": 12,
   "metadata": {
    "colab": {
     "base_uri": "https://localhost:8080/"
    },
    "id": "YrRKmm_VoO_a",
    "outputId": "ac942f88-a85b-4d1d-bf82-0a007e577308"
   },
   "outputs": [
    {
     "data": {
      "text/plain": [
       "array([[-1.08864964, -1.51448337]])"
      ]
     },
     "execution_count": 12,
     "metadata": {},
     "output_type": "execute_result"
    }
   ],
   "source": [
    "scaled_"
   ]
  },
  {
   "cell_type": "code",
   "execution_count": 13,
   "metadata": {
    "colab": {
     "base_uri": "https://localhost:8080/"
    },
    "id": "3Tnj0hgIon-n",
    "outputId": "bc787b52-6679-47ea-e2a3-dc04d5523f57"
   },
   "outputs": [
    {
     "data": {
      "text/plain": [
       "KMeans(n_clusters=3)"
      ]
     },
     "execution_count": 13,
     "metadata": {},
     "output_type": "execute_result"
    }
   ],
   "source": [
    "model = KMeans(n_clusters = 3)\n",
    "model.fit(train_data)"
   ]
  },
  {
   "cell_type": "code",
   "execution_count": 14,
   "metadata": {
    "colab": {
     "base_uri": "https://localhost:8080/"
    },
    "id": "jQrvBLX3ozl3",
    "outputId": "22b1ff5a-c0b6-48b0-b340-64b9b557cf37"
   },
   "outputs": [
    {
     "data": {
      "text/plain": [
       "array([2])"
      ]
     },
     "execution_count": 14,
     "metadata": {},
     "output_type": "execute_result"
    }
   ],
   "source": [
    "model.predict(scaled_.reshape(1,-1))"
   ]
  },
  {
   "cell_type": "code",
   "execution_count": 15,
   "metadata": {
    "colab": {
     "base_uri": "https://localhost:8080/",
     "height": 282
    },
    "id": "8E4bt4yho4sa",
    "outputId": "2da8b383-be1e-41bc-aa27-b30949bb9029"
   },
   "outputs": [
    {
     "data": {
      "text/plain": [
       "<matplotlib.collections.PathCollection at 0x1b54ef0fdc0>"
      ]
     },
     "execution_count": 15,
     "metadata": {},
     "output_type": "execute_result"
    },
    {
     "data": {
      "image/png": "[encoded data removed]",
      "text/plain": [
       "<Figure size 432x288 with 1 Axes>"
      ]
     },
     "metadata": {
      "needs_background": "light"
     },
     "output_type": "display_data"
    }
   ],
   "source": [
    "plt.scatter(train_x,train_y)\n",
    "plt.scatter(scaled_[0][0],scaled_[0][1],color='red')"
   ]
  },
  {
   "cell_type": "code",
   "execution_count": null,
   "metadata": {
    "id": "9t0cm90To70g"
   },
   "outputs": [],
   "source": []
  },
  {
   "cell_type": "code",
   "execution_count": null,
   "metadata": {},
   "outputs": [],
   "source": []
  },
  {
   "cell_type": "code",
   "execution_count": null,
   "metadata": {},
   "outputs": [],
   "source": []
  }
 ],
 "metadata": {
  "colab": {
   "collapsed_sections": [],
   "name": "KMEANS.ipynb",
   "provenance": []
  },
  "kernelspec": {
   "display_name": "Python 3 (ipykernel)",
   "language": "python",
   "name": "python3"
  },
  "language_info": {
   "codemirror_mode": {
    "name": "ipython",
    "version": 3
   },
   "file_extension": ".py",
   "mimetype": "text/x-python",
   "name": "python",
   "nbconvert_exporter": "python",
   "pygments_lexer": "ipython3",
   "version": "3.9.12"
  }
 },
 "nbformat": 4,
 "nbformat_minor": 1
}
